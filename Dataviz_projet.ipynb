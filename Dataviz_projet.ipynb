{
 "cells": [
  {
   "cell_type": "code",
   "execution_count": 1,
   "id": "aa9c2955",
   "metadata": {},
   "outputs": [],
   "source": [
    "import pandas as pd\n",
    "import pandas_profiling\n",
    "\n",
    "import numpy as np\n",
    "\n",
    "import matplotlib.pyplot as plt \n",
    "import seaborn as sns\n",
    "\n",
    "sns.set_theme(style=\"whitegrid\")\n",
    "\n",
    "%matplotlib inline"
   ]
  },
  {
   "cell_type": "code",
   "execution_count": 39,
   "id": "7b18342f",
   "metadata": {},
   "outputs": [],
   "source": [
    "df_2020 = pd.read_csv('./full_2020.csv', dtype={}, low_memory=False)"
   ]
  },
  {
   "cell_type": "code",
   "execution_count": 26,
   "id": "c5e73f4c",
   "metadata": {},
   "outputs": [],
   "source": [
    "df_2017 = pd.read_csv('./full_2017.csv', dtype={}, low_memory=False)"
   ]
  },
  {
   "cell_type": "code",
   "execution_count": 42,
   "id": "44073027",
   "metadata": {},
   "outputs": [],
   "source": [
    "filtered_data = df_2020[(df_2020[\"code_departement\"] == '6')]"
   ]
  },
  {
   "cell_type": "code",
   "execution_count": 43,
   "id": "54c712be",
   "metadata": {},
   "outputs": [
    {
     "data": {
      "text/html": [
       "<div>\n",
       "<style scoped>\n",
       "    .dataframe tbody tr th:only-of-type {\n",
       "        vertical-align: middle;\n",
       "    }\n",
       "\n",
       "    .dataframe tbody tr th {\n",
       "        vertical-align: top;\n",
       "    }\n",
       "\n",
       "    .dataframe thead th {\n",
       "        text-align: right;\n",
       "    }\n",
       "</style>\n",
       "<table border=\"1\" class=\"dataframe\">\n",
       "  <thead>\n",
       "    <tr style=\"text-align: right;\">\n",
       "      <th></th>\n",
       "      <th>id_mutation</th>\n",
       "      <th>date_mutation</th>\n",
       "      <th>numero_disposition</th>\n",
       "      <th>nature_mutation</th>\n",
       "      <th>valeur_fonciere</th>\n",
       "      <th>adresse_numero</th>\n",
       "      <th>adresse_suffixe</th>\n",
       "      <th>adresse_nom_voie</th>\n",
       "      <th>adresse_code_voie</th>\n",
       "      <th>code_postal</th>\n",
       "      <th>...</th>\n",
       "      <th>type_local</th>\n",
       "      <th>surface_reelle_bati</th>\n",
       "      <th>nombre_pieces_principales</th>\n",
       "      <th>code_nature_culture</th>\n",
       "      <th>nature_culture</th>\n",
       "      <th>code_nature_culture_speciale</th>\n",
       "      <th>nature_culture_speciale</th>\n",
       "      <th>surface_terrain</th>\n",
       "      <th>longitude</th>\n",
       "      <th>latitude</th>\n",
       "    </tr>\n",
       "  </thead>\n",
       "  <tbody>\n",
       "  </tbody>\n",
       "</table>\n",
       "<p>0 rows × 40 columns</p>\n",
       "</div>"
      ],
      "text/plain": [
       "Empty DataFrame\n",
       "Columns: [id_mutation, date_mutation, numero_disposition, nature_mutation, valeur_fonciere, adresse_numero, adresse_suffixe, adresse_nom_voie, adresse_code_voie, code_postal, code_commune, nom_commune, code_departement, ancien_code_commune, ancien_nom_commune, id_parcelle, ancien_id_parcelle, numero_volume, lot1_numero, lot1_surface_carrez, lot2_numero, lot2_surface_carrez, lot3_numero, lot3_surface_carrez, lot4_numero, lot4_surface_carrez, lot5_numero, lot5_surface_carrez, nombre_lots, code_type_local, type_local, surface_reelle_bati, nombre_pieces_principales, code_nature_culture, nature_culture, code_nature_culture_speciale, nature_culture_speciale, surface_terrain, longitude, latitude]\n",
       "Index: []\n",
       "\n",
       "[0 rows x 40 columns]"
      ]
     },
     "execution_count": 43,
     "metadata": {},
     "output_type": "execute_result"
    }
   ],
   "source": [
    "filtered_data"
   ]
  },
  {
   "cell_type": "code",
   "execution_count": 4,
   "id": "7674a62d",
   "metadata": {},
   "outputs": [
    {
     "data": {
      "text/html": [
       "<div>\n",
       "<style scoped>\n",
       "    .dataframe tbody tr th:only-of-type {\n",
       "        vertical-align: middle;\n",
       "    }\n",
       "\n",
       "    .dataframe tbody tr th {\n",
       "        vertical-align: top;\n",
       "    }\n",
       "\n",
       "    .dataframe thead th {\n",
       "        text-align: right;\n",
       "    }\n",
       "</style>\n",
       "<table border=\"1\" class=\"dataframe\">\n",
       "  <thead>\n",
       "    <tr style=\"text-align: right;\">\n",
       "      <th></th>\n",
       "      <th>id_mutation</th>\n",
       "      <th>date_mutation</th>\n",
       "      <th>numero_disposition</th>\n",
       "      <th>nature_mutation</th>\n",
       "      <th>valeur_fonciere</th>\n",
       "      <th>adresse_numero</th>\n",
       "      <th>adresse_suffixe</th>\n",
       "      <th>adresse_nom_voie</th>\n",
       "      <th>adresse_code_voie</th>\n",
       "      <th>code_postal</th>\n",
       "      <th>...</th>\n",
       "      <th>type_local</th>\n",
       "      <th>surface_reelle_bati</th>\n",
       "      <th>nombre_pieces_principales</th>\n",
       "      <th>code_nature_culture</th>\n",
       "      <th>nature_culture</th>\n",
       "      <th>code_nature_culture_speciale</th>\n",
       "      <th>nature_culture_speciale</th>\n",
       "      <th>surface_terrain</th>\n",
       "      <th>longitude</th>\n",
       "      <th>latitude</th>\n",
       "    </tr>\n",
       "  </thead>\n",
       "  <tbody>\n",
       "    <tr>\n",
       "      <th>0</th>\n",
       "      <td>2020-1</td>\n",
       "      <td>2020-01-07</td>\n",
       "      <td>1</td>\n",
       "      <td>Vente</td>\n",
       "      <td>8000.0</td>\n",
       "      <td>NaN</td>\n",
       "      <td>NaN</td>\n",
       "      <td>FORTUNAT</td>\n",
       "      <td>B063</td>\n",
       "      <td>1250.0</td>\n",
       "      <td>...</td>\n",
       "      <td>NaN</td>\n",
       "      <td>NaN</td>\n",
       "      <td>NaN</td>\n",
       "      <td>T</td>\n",
       "      <td>terres</td>\n",
       "      <td>NaN</td>\n",
       "      <td>NaN</td>\n",
       "      <td>1061.0</td>\n",
       "      <td>5.323540</td>\n",
       "      <td>46.171919</td>\n",
       "    </tr>\n",
       "    <tr>\n",
       "      <th>1</th>\n",
       "      <td>2020-2</td>\n",
       "      <td>2020-01-02</td>\n",
       "      <td>1</td>\n",
       "      <td>Vente</td>\n",
       "      <td>2175.0</td>\n",
       "      <td>NaN</td>\n",
       "      <td>NaN</td>\n",
       "      <td>TERRES DES CINQ SAULES</td>\n",
       "      <td>B124</td>\n",
       "      <td>1290.0</td>\n",
       "      <td>...</td>\n",
       "      <td>NaN</td>\n",
       "      <td>NaN</td>\n",
       "      <td>NaN</td>\n",
       "      <td>BT</td>\n",
       "      <td>taillis simples</td>\n",
       "      <td>NaN</td>\n",
       "      <td>NaN</td>\n",
       "      <td>85.0</td>\n",
       "      <td>4.893436</td>\n",
       "      <td>46.251868</td>\n",
       "    </tr>\n",
       "    <tr>\n",
       "      <th>2</th>\n",
       "      <td>2020-2</td>\n",
       "      <td>2020-01-02</td>\n",
       "      <td>1</td>\n",
       "      <td>Vente</td>\n",
       "      <td>2175.0</td>\n",
       "      <td>NaN</td>\n",
       "      <td>NaN</td>\n",
       "      <td>BOIS DU CHAMP RION</td>\n",
       "      <td>B006</td>\n",
       "      <td>1290.0</td>\n",
       "      <td>...</td>\n",
       "      <td>NaN</td>\n",
       "      <td>NaN</td>\n",
       "      <td>NaN</td>\n",
       "      <td>T</td>\n",
       "      <td>terres</td>\n",
       "      <td>NaN</td>\n",
       "      <td>NaN</td>\n",
       "      <td>1115.0</td>\n",
       "      <td>4.899919</td>\n",
       "      <td>46.235327</td>\n",
       "    </tr>\n",
       "    <tr>\n",
       "      <th>3</th>\n",
       "      <td>2020-2</td>\n",
       "      <td>2020-01-02</td>\n",
       "      <td>1</td>\n",
       "      <td>Vente</td>\n",
       "      <td>2175.0</td>\n",
       "      <td>NaN</td>\n",
       "      <td>NaN</td>\n",
       "      <td>EN COROBERT</td>\n",
       "      <td>B025</td>\n",
       "      <td>1290.0</td>\n",
       "      <td>...</td>\n",
       "      <td>NaN</td>\n",
       "      <td>NaN</td>\n",
       "      <td>NaN</td>\n",
       "      <td>T</td>\n",
       "      <td>terres</td>\n",
       "      <td>NaN</td>\n",
       "      <td>NaN</td>\n",
       "      <td>1940.0</td>\n",
       "      <td>4.882347</td>\n",
       "      <td>46.246519</td>\n",
       "    </tr>\n",
       "    <tr>\n",
       "      <th>4</th>\n",
       "      <td>2020-2</td>\n",
       "      <td>2020-01-02</td>\n",
       "      <td>1</td>\n",
       "      <td>Vente</td>\n",
       "      <td>2175.0</td>\n",
       "      <td>NaN</td>\n",
       "      <td>NaN</td>\n",
       "      <td>TERRES DES CINQ SAULES</td>\n",
       "      <td>B124</td>\n",
       "      <td>1290.0</td>\n",
       "      <td>...</td>\n",
       "      <td>NaN</td>\n",
       "      <td>NaN</td>\n",
       "      <td>NaN</td>\n",
       "      <td>T</td>\n",
       "      <td>terres</td>\n",
       "      <td>NaN</td>\n",
       "      <td>NaN</td>\n",
       "      <td>1148.0</td>\n",
       "      <td>4.894688</td>\n",
       "      <td>46.251820</td>\n",
       "    </tr>\n",
       "  </tbody>\n",
       "</table>\n",
       "<p>5 rows × 40 columns</p>\n",
       "</div>"
      ],
      "text/plain": [
       "  id_mutation date_mutation  numero_disposition nature_mutation  \\\n",
       "0      2020-1    2020-01-07                   1           Vente   \n",
       "1      2020-2    2020-01-02                   1           Vente   \n",
       "2      2020-2    2020-01-02                   1           Vente   \n",
       "3      2020-2    2020-01-02                   1           Vente   \n",
       "4      2020-2    2020-01-02                   1           Vente   \n",
       "\n",
       "   valeur_fonciere  adresse_numero adresse_suffixe        adresse_nom_voie  \\\n",
       "0           8000.0             NaN             NaN                FORTUNAT   \n",
       "1           2175.0             NaN             NaN  TERRES DES CINQ SAULES   \n",
       "2           2175.0             NaN             NaN      BOIS DU CHAMP RION   \n",
       "3           2175.0             NaN             NaN             EN COROBERT   \n",
       "4           2175.0             NaN             NaN  TERRES DES CINQ SAULES   \n",
       "\n",
       "  adresse_code_voie  code_postal  ... type_local surface_reelle_bati  \\\n",
       "0              B063       1250.0  ...        NaN                 NaN   \n",
       "1              B124       1290.0  ...        NaN                 NaN   \n",
       "2              B006       1290.0  ...        NaN                 NaN   \n",
       "3              B025       1290.0  ...        NaN                 NaN   \n",
       "4              B124       1290.0  ...        NaN                 NaN   \n",
       "\n",
       "  nombre_pieces_principales  code_nature_culture   nature_culture  \\\n",
       "0                       NaN                    T           terres   \n",
       "1                       NaN                   BT  taillis simples   \n",
       "2                       NaN                    T           terres   \n",
       "3                       NaN                    T           terres   \n",
       "4                       NaN                    T           terres   \n",
       "\n",
       "  code_nature_culture_speciale nature_culture_speciale surface_terrain  \\\n",
       "0                          NaN                     NaN          1061.0   \n",
       "1                          NaN                     NaN            85.0   \n",
       "2                          NaN                     NaN          1115.0   \n",
       "3                          NaN                     NaN          1940.0   \n",
       "4                          NaN                     NaN          1148.0   \n",
       "\n",
       "  longitude   latitude  \n",
       "0  5.323540  46.171919  \n",
       "1  4.893436  46.251868  \n",
       "2  4.899919  46.235327  \n",
       "3  4.882347  46.246519  \n",
       "4  4.894688  46.251820  \n",
       "\n",
       "[5 rows x 40 columns]"
      ]
     },
     "execution_count": 4,
     "metadata": {},
     "output_type": "execute_result"
    }
   ],
   "source": [
    "df.head()"
   ]
  },
  {
   "cell_type": "code",
   "execution_count": 5,
   "id": "9e5324fd",
   "metadata": {},
   "outputs": [
    {
     "data": {
      "text/plain": [
       "id_mutation                      object\n",
       "date_mutation                    object\n",
       "numero_disposition                int64\n",
       "nature_mutation                  object\n",
       "valeur_fonciere                 float64\n",
       "adresse_numero                  float64\n",
       "adresse_suffixe                  object\n",
       "adresse_nom_voie                 object\n",
       "adresse_code_voie                object\n",
       "code_postal                     float64\n",
       "code_commune                     object\n",
       "nom_commune                      object\n",
       "code_departement                 object\n",
       "ancien_code_commune             float64\n",
       "ancien_nom_commune               object\n",
       "id_parcelle                      object\n",
       "ancien_id_parcelle               object\n",
       "numero_volume                    object\n",
       "lot1_numero                      object\n",
       "lot1_surface_carrez             float64\n",
       "lot2_numero                      object\n",
       "lot2_surface_carrez             float64\n",
       "lot3_numero                      object\n",
       "lot3_surface_carrez             float64\n",
       "lot4_numero                     float64\n",
       "lot4_surface_carrez             float64\n",
       "lot5_numero                     float64\n",
       "lot5_surface_carrez             float64\n",
       "nombre_lots                       int64\n",
       "code_type_local                 float64\n",
       "type_local                       object\n",
       "surface_reelle_bati             float64\n",
       "nombre_pieces_principales       float64\n",
       "code_nature_culture              object\n",
       "nature_culture                   object\n",
       "code_nature_culture_speciale     object\n",
       "nature_culture_speciale          object\n",
       "surface_terrain                 float64\n",
       "longitude                       float64\n",
       "latitude                        float64\n",
       "dtype: object"
      ]
     },
     "execution_count": 5,
     "metadata": {},
     "output_type": "execute_result"
    }
   ],
   "source": [
    "df.dtypes"
   ]
  },
  {
   "cell_type": "code",
   "execution_count": 6,
   "id": "fe7c4c0e",
   "metadata": {},
   "outputs": [],
   "source": [
    "# Add new column and compute price per m2 \n",
    "df['price_per_m2'] = df['valeur_fonciere']/df['surface_reelle_bati']"
   ]
  },
  {
   "cell_type": "markdown",
   "id": "3d8f27fb",
   "metadata": {},
   "source": [
    "# Exploratory Data Analysis with pandas_profiling"
   ]
  },
  {
   "cell_type": "code",
   "execution_count": 7,
   "id": "41190962",
   "metadata": {},
   "outputs": [],
   "source": [
    "#df.profile_report()"
   ]
  },
  {
   "cell_type": "markdown",
   "id": "0e966ad3",
   "metadata": {},
   "source": [
    "# What are the departements with the highest number of real estate transactions"
   ]
  },
  {
   "cell_type": "code",
   "execution_count": 8,
   "id": "0da67c4c",
   "metadata": {
    "scrolled": true
   },
   "outputs": [
    {
     "data": {
      "text/plain": [
       "array(['01', '02', '03', '04', '05', '06', '07', '08', '09', '10', '11',\n",
       "       '12', '13', '14', '15', '16', '17', '18', '19', '21', '22', '23',\n",
       "       '24', '25', '26', '27', '28', '29', '2A', '2B', '30', '31', '32',\n",
       "       '33', '34', '35', '36', '37', '38', '39', '40', '41', '42', '43',\n",
       "       '44', '49', '45', '46', '47', '48', '50', '51', '52', '53', '54',\n",
       "       '55', '56', '58', '59', '60', '61', '62', '63', '64', '65', '66',\n",
       "       '69', '70', '71', '72', '73', '74', '76', '77', '78', '79', '80',\n",
       "       '81', '82', '83', '84', '85', '86', '87', '88', '89', '90', '91',\n",
       "       '92', '93', '94', '95', '971', '972', '973', '974', '75'],\n",
       "      dtype=object)"
      ]
     },
     "execution_count": 8,
     "metadata": {},
     "output_type": "execute_result"
    }
   ],
   "source": [
    "df.code_departement.unique()"
   ]
  },
  {
   "cell_type": "code",
   "execution_count": 9,
   "id": "58519192",
   "metadata": {},
   "outputs": [
    {
     "data": {
      "text/plain": [
       "33     91383\n",
       "59     84457\n",
       "44     81754\n",
       "77     66274\n",
       "35     63357\n",
       "       ...  \n",
       "972     2909\n",
       "55      2892\n",
       "12      1888\n",
       "971     1254\n",
       "2B       460\n",
       "Name: code_departement, Length: 97, dtype: int64"
      ]
     },
     "execution_count": 9,
     "metadata": {},
     "output_type": "execute_result"
    }
   ],
   "source": [
    "df['code_departement'].value_counts()"
   ]
  },
  {
   "cell_type": "code",
   "execution_count": 10,
   "id": "a6050951",
   "metadata": {},
   "outputs": [],
   "source": [
    "def get_highest_dept_transactions(df, top = 10):\n",
    "    \"\"\"\n",
    "    get the departements with the highest number of real estate\n",
    "    input : df : dataframe\n",
    "    return : list of \"highest\" departements\n",
    "    \"\"\"\n",
    "    \n",
    "    # Groupby to find total number of transactiosn \n",
    "    mutation_by_dept = df.groupby(['code_departement']).count()['id_mutation']\n",
    "\n",
    "    # Then sort descending \n",
    "    mutation_by_dept = mutation_by_dept.sort_values(ascending=False).copy()\n",
    "\n",
    "    return mutation_by_dept.iloc[:top]"
   ]
  },
  {
   "cell_type": "code",
   "execution_count": 24,
   "id": "fce06528",
   "metadata": {},
   "outputs": [],
   "source": [
    "# get department with the highest number of mutations\n",
    "top = 20\n",
    "highest_dept_by_mutation =  get_highest_dept_transactions(df, top) "
   ]
  },
  {
   "cell_type": "code",
   "execution_count": 25,
   "id": "b72745c5",
   "metadata": {},
   "outputs": [
    {
     "data": {
      "image/png": "[encoded data removed]",
      "text/plain": [
       "<Figure size 1152x432 with 1 Axes>"
      ]
     },
     "metadata": {
      "needs_background": "light"
     },
     "output_type": "display_data"
    }
   ],
   "source": [
    "plt.figure(figsize=(16,6))\n",
    "sns.barplot(x=highest_dept_by_mutation.index, y=highest_dept_by_mutation.values)\n",
    "plt.xticks(rotation=45)\n",
    "plt.tight_layout()"
   ]
  },
  {
   "cell_type": "markdown",
   "id": "05fade22",
   "metadata": {},
   "source": [
    "Le département de la Gironde (33) est celui qui le plus de transactions immobilières en France. Regardons les communes dont le $m^2$ est le plus élevé et le moins élevé"
   ]
  },
  {
   "cell_type": "markdown",
   "id": "328dff44",
   "metadata": {},
   "source": [
    "# Given a department, what are the communes with the highest and the lowest price per square meter ?"
   ]
  },
  {
   "cell_type": "code",
   "execution_count": 13,
   "id": "1be7d4bb",
   "metadata": {},
   "outputs": [],
   "source": [
    "def get_most_expensive_com_in_dept(df, dept='1', top = 10):\n",
    "    \"\"\"\n",
    "    Given a dept number, get the highest communes with the highest and lowest prices per m2\n",
    "    input : df : dataframe, dept number, highest\n",
    "    return : list of \"highest\" communes, list of the lowest communes\n",
    "    \"\"\"\n",
    "    \n",
    "    # Select mutations for dept\n",
    "    df_com = df[(df['code_departement']==dept) & (df['nature_mutation']=='Vente')].copy(deep=True)\n",
    "\n",
    "    # Some price are missing, we drop them \n",
    "    df_com = df_com.dropna(subset=['price_per_m2'])\n",
    "\n",
    "    # find the highest \n",
    "    most_expensive_communes = df_com.groupby(['code_commune']).mean()['price_per_m2']\n",
    "    most_expensive_communes = most_expensive_communes.sort_values(ascending=False)\n",
    "    most_expensive_communes = most_expensive_communes[:top]\n",
    "    \n",
    "    # find the highest \n",
    "    less_expensive_communes = df_com.groupby(['code_commune']).mean()['price_per_m2']\n",
    "    less_expensive_communes = less_expensive_communes.sort_values()\n",
    "    less_expensive_communes = less_expensive_communes[:top]\n",
    "\n",
    "    return most_expensive_communes, less_expensive_communes"
   ]
  },
  {
   "cell_type": "code",
   "execution_count": 14,
   "id": "0d201a0c",
   "metadata": {},
   "outputs": [
    {
     "name": "stdout",
     "output_type": "stream",
     "text": [
      "\n",
      "The top 10 communes with the highest price per m2 in dept 33 are : \n",
      "code_commune\n",
      "33396    228163.076205\n",
      "33192     43732.937082\n",
      "33302     38284.343027\n",
      "33550     36111.046942\n",
      "33421     32216.284230\n",
      "33522     15997.411412\n",
      "33167     15526.065217\n",
      "33279     15320.551563\n",
      "33243     13881.928398\n",
      "33499     12584.508131\n",
      "Name: price_per_m2, dtype: float64\n",
      "\n",
      "The top 10 communes with the lowest price per m2 in dept 33 are : \n",
      "code_commune\n",
      "33148      2.576000\n",
      "33074    666.666667\n",
      "33094    755.099412\n",
      "33246    772.727273\n",
      "33378    792.038836\n",
      "33223    808.652181\n",
      "33228    886.845537\n",
      "33247    890.270224\n",
      "33166    929.280507\n",
      "33380    961.517975\n",
      "Name: price_per_m2, dtype: float64\n"
     ]
    }
   ],
   "source": [
    "# get top 10 communes for dept 33\n",
    "\n",
    "top = 10\n",
    "dept = '33'\n",
    "\n",
    "# get the most expensive and less expensive communes regarding price per m2\n",
    "most_expensive_communes, less_expensive_communes = get_most_expensive_com_in_dept(df, dept)\n",
    "\n",
    "print(\"\\nThe top {} communes with the highest price per m2 in dept {} are : \\n{}\".format(top, dept, most_expensive_communes.head(top)))\n",
    "print(\"\\nThe top {} communes with the lowest price per m2 in dept {} are : \\n{}\".format(top, dept, less_expensive_communes.head(top)))\n"
   ]
  },
  {
   "cell_type": "code",
   "execution_count": 15,
   "id": "b0469402",
   "metadata": {},
   "outputs": [
    {
     "data": {
      "image/png": "[encoded data removed]",
      "text/plain": [
       "<Figure size 1152x432 with 1 Axes>"
      ]
     },
     "metadata": {
      "needs_background": "light"
     },
     "output_type": "display_data"
    }
   ],
   "source": [
    "plt.figure(figsize=(16,6))\n",
    "sns.lineplot(x=most_expensive_communes.index, y=most_expensive_communes.values)\n",
    "plt.xticks(rotation=45)\n",
    "plt.tight_layout()"
   ]
  },
  {
   "cell_type": "code",
   "execution_count": 16,
   "id": "f10f939e",
   "metadata": {},
   "outputs": [
    {
     "data": {
      "image/png": "[encoded data removed]",
      "text/plain": [
       "<Figure size 1152x432 with 1 Axes>"
      ]
     },
     "metadata": {
      "needs_background": "light"
     },
     "output_type": "display_data"
    }
   ],
   "source": [
    "plt.figure(figsize=(16,6))\n",
    "sns.lineplot(x=less_expensive_communes.index, y=less_expensive_communes.values)\n",
    "plt.xticks(rotation=45)\n",
    "plt.tight_layout()"
   ]
  },
  {
   "cell_type": "markdown",
   "id": "7062475f",
   "metadata": {},
   "source": [
    "Regardons la répartition des transactions immobilières part types de biens (maison, appartement...)"
   ]
  },
  {
   "cell_type": "markdown",
   "id": "5b6aef72",
   "metadata": {},
   "source": [
    "# Given a department, what is the repartition of mutations by category"
   ]
  },
  {
   "cell_type": "code",
   "execution_count": 17,
   "id": "67409cb2",
   "metadata": {},
   "outputs": [],
   "source": [
    "def get_mutation_repartition_by_types_in_dept(df, dept='1', top=5):\n",
    "    \"\"\"\n",
    "    Given a dept number, get the  prices per m2\n",
    "    input : df : dataframe, dept number, highest\n",
    "    return : list of \"highest\" communes, list of the lowest communes\n",
    "    \"\"\"\n",
    "    \n",
    "    # Select mutations for dept\n",
    "    df_types = df[df['code_departement']==dept].copy(deep=True)\n",
    "    \n",
    "    # group by 'type_local'\n",
    "    df_types = df_types.groupby(['type_local']).count()['id_mutation']\n",
    "    \n",
    "    # sort ascending\n",
    "    df_types = df_types.sort_values(ascending=False)\n",
    "    \n",
    "    return df_types"
   ]
  },
  {
   "cell_type": "code",
   "execution_count": 18,
   "id": "bf3d3463",
   "metadata": {},
   "outputs": [
    {
     "data": {
      "image/png": "[encoded data removed]",
      "text/plain": [
       "<Figure size 1152x432 with 1 Axes>"
      ]
     },
     "metadata": {},
     "output_type": "display_data"
    }
   ],
   "source": [
    "top = 5\n",
    "dept='33'\n",
    "\n",
    "df_types = get_mutation_repartition_by_types_in_dept(df, dept, top)\n",
    "data = df_types.values\n",
    "labels = df_types.index\n",
    "\n",
    "#define Seaborn color palette to use\n",
    "colors = sns.color_palette('pastel')[0:top]\n",
    "\n",
    "#create pie chart\n",
    "plt.figure(figsize=(16,6))\n",
    "plt.pie(data, labels = labels, colors = colors, autopct='%.1f%%')\n",
    "plt.show()"
   ]
  },
  {
   "cell_type": "markdown",
   "id": "4235a173",
   "metadata": {},
   "source": [
    "On va regarder la tendance des prix pour les 5 communes les plus chères"
   ]
  },
  {
   "cell_type": "markdown",
   "id": "6745f825",
   "metadata": {},
   "source": [
    "# get price trend for communes withe highest price per m2 "
   ]
  },
  {
   "cell_type": "code",
   "execution_count": 19,
   "id": "315aa5be",
   "metadata": {},
   "outputs": [],
   "source": [
    "def get_price_trends(df, dept='33'):\n",
    "    \n",
    "    # select only communes for dept\n",
    "    df_trend = df[df['code_departement']==dept].copy(deep=True)\n",
    "    \n",
    "    # Convert date_mutation to datetime type \n",
    "    df_trend['date_mutation'] = pd.to_datetime(df_trend['date_mutation'])\n",
    "\n",
    "    # create multindex\n",
    "    df_trend = df_trend.set_index([pd.to_datetime(df_trend['date_mutation']), 'code_commune' ], drop=True)\n",
    "    \n",
    "    # drop unused colum\n",
    "    df_trend = df_trend.drop(['date_mutation'], axis=1)\n",
    "    \n",
    "    # group by multindex\n",
    "    df_trend = df_trend.groupby(['date_mutation', 'code_commune']).mean()\n",
    "\n",
    "    # unstack the data\n",
    "    data_flat = df_trend.unstack().resample('M').mean()['price_per_m2']\n",
    "    data_flat = data_flat.stack().reset_index() #\n",
    "    data_flat.columns=['date_mutation','code_commune','price_per_m2']\n",
    "    \n",
    "    return data_flat"
   ]
  },
  {
   "cell_type": "code",
   "execution_count": null,
   "id": "c1fdd1aa",
   "metadata": {},
   "outputs": [],
   "source": []
  },
  {
   "cell_type": "code",
   "execution_count": 20,
   "id": "97a871cd",
   "metadata": {},
   "outputs": [
    {
     "data": {
      "text/plain": [
       "<Figure size 1152x1152 with 0 Axes>"
      ]
     },
     "metadata": {},
     "output_type": "display_data"
    },
    {
     "data": {
      "image/png": "[encoded data removed]",
      "text/plain": [
       "<Figure size 454.175x360 with 1 Axes>"
      ]
     },
     "metadata": {
      "needs_background": "light"
     },
     "output_type": "display_data"
    }
   ],
   "source": [
    "# get top 10 communes for dept 33\n",
    "\n",
    "top = 10\n",
    "dept = '60'\n",
    "\n",
    "# get the most expensive and less expensive communes regarding price per m2\n",
    "most_expensive_communes, less_expensive_communes = get_most_expensive_com_in_dept(df, dept)\n",
    "\n",
    "# get price trend for this dept\n",
    "data_flat = get_price_trends(df, dept)\n",
    "data_flat = data_flat[data_flat['code_commune'].isin(most_expensive_communes.index.to_list())]\n",
    "\n",
    "#create pie chart\n",
    "plt.figure(figsize=(16,16))\n",
    "sns.relplot(data=data_flat, x='date_mutation', y='price_per_m2', hue='code_commune', kind=\"line\")\n",
    "plt.show()"
   ]
  },
  {
   "cell_type": "code",
   "execution_count": 21,
   "id": "a5b0b941",
   "metadata": {},
   "outputs": [
    {
     "name": "stdout",
     "output_type": "stream",
     "text": [
      "Variable                                    Type         Data/Info\n",
      "------------------------------------------------------------------\n",
      "colors                                      list         n=5\n",
      "data                                        ndarray      4: 4 elems, type `int64`, 32 bytes\n",
      "data_flat                                   DataFrame         date_mutation code_c<...>n\\n[101 rows x 3 columns]\n",
      "dept                                        str          60\n",
      "df                                          DataFrame              id_mutation dat<...>459560 rows x 41 columns]\n",
      "df_types                                    Series       type_local\\nMaison       <...>id_mutation, dtype: int64\n",
      "get_highest_dept_transactions               function     <function get_highest_dep<...>ctions at 0x7fc2ce604b80>\n",
      "get_most_expensive_com_in_dept              function     <function get_most_expens<...>n_dept at 0x7fc1e351b550>\n",
      "get_mutation_repartition_by_types_in_dept   function     <function get_mutation_re<...>n_dept at 0x7fc2322edc10>\n",
      "get_price_trends                            function     <function get_price_trends at 0x7fc1e3571ca0>\n",
      "highest_dept_by_mutation                    Series       code_departement\\n33    9<...>id_mutation, dtype: int64\n",
      "labels                                      Index        Index(['Maison', 'Apparte<...>ject', name='type_local')\n",
      "less_expensive_communes                     Series       code_commune\\n60236    58<...>ce_per_m2, dtype: float64\n",
      "most_expensive_communes                     Series       code_commune\\n60500    80<...>ce_per_m2, dtype: float64\n",
      "np                                          module       <module 'numpy' from '/Us<...>kages/numpy/__init__.py'>\n",
      "pandas_profiling                            module       <module 'pandas_profiling<...>s_profiling/__init__.py'>\n",
      "pd                                          module       <module 'pandas' from '/U<...>ages/pandas/__init__.py'>\n",
      "plt                                         module       <module 'matplotlib.pyplo<...>es/matplotlib/pyplot.py'>\n",
      "sns                                         module       <module 'seaborn' from '/<...>ges/seaborn/__init__.py'>\n",
      "top                                         int          10\n"
     ]
    }
   ],
   "source": [
    "whos"
   ]
  },
  {
   "cell_type": "code",
   "execution_count": null,
   "id": "425c88dc",
   "metadata": {},
   "outputs": [],
   "source": []
  }
 ],
 "metadata": {
  "kernelspec": {
   "display_name": "Python 3",
   "language": "python",
   "name": "python3"
  },
  "language_info": {
   "codemirror_mode": {
    "name": "ipython",
    "version": 3
   },
   "file_extension": ".py",
   "mimetype": "text/x-python",
   "name": "python",
   "nbconvert_exporter": "python",
   "pygments_lexer": "ipython3",
   "version": "3.8.8"
  }
 },
 "nbformat": 4,
 "nbformat_minor": 5
}
